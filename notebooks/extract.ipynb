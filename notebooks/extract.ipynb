{
 "cells": [
  {
   "cell_type": "code",
   "execution_count": null,
   "metadata": {},
   "outputs": [],
   "source": [
    "import requests\n",
    "from bs4 import BeautifulSoup"
   ]
  },
  {
   "cell_type": "code",
   "execution_count": null,
   "metadata": {},
   "outputs": [],
   "source": [
    "HEADERS = {\n",
    "    \"User-Agent\": \"Mozilla/5.0 (X11; Linux x86_64) AppleWebKit/537.36 (KHTML, like Gecko) Chrome/131.0.0.0 Safari/537.36\"\n",
    "}  # Cabeçalho padrão\n",
    "SEARCH_VALUE = \"smartphone\"  # Parâmetro de pesquisa"
   ]
  },
  {
   "cell_type": "code",
   "execution_count": null,
   "metadata": {},
   "outputs": [],
   "source": [
    "# Requisição para página usando o SEARCH_VALUE de pesquisa\n",
    "session = requests.Session()\n",
    "response = session.get(\"https://www.mercadolivre.com.br/\", timeout=5, headers=HEADERS)\n",
    "session.headers.update\n",
    "response = session.get(\n",
    "    f\"https://lista.mercadolivre.com.br/{SEARCH_VALUE}#D[A:{SEARCH_VALUE}]\", timeout=5\n",
    ")"
   ]
  },
  {
   "cell_type": "code",
   "execution_count": null,
   "metadata": {},
   "outputs": [],
   "source": [
    "# Coleta das informações (nome do produto, preço, avalição (nota e quantidade) e navegação de página)\n",
    "soup = BeautifulSoup(response.text, \"html.parser\")\n",
    "nome_produto = soup.findAll(class_=\"poly-box poly-component__title\")\n",
    "preco_produto = soup.findAll(class_=\"andes-money-amount__fraction\")\n",
    "avaliacao_produto = soup.findAll(class_=\"andes-visually-hidden\")\n",
    "nav_pagina = soup.findAll(class_=\"andes-pagination__link\")\n",
    "\n",
    "# Impressão das informações (nome do produto, preço, avalição (nota e quantidade) e navegação de página)\n",
    "for i in nome_produto:\n",
    "    print(i.text)\n",
    "\n",
    "for i in preco_produto:\n",
    "    print(i.text)\n",
    "\n",
    "for i in avaliacao_produto:\n",
    "    print(i.text)\n",
    "\n",
    "for i in nav_pagina:\n",
    "    print(i.get(\"href\"))"
   ]
  },
  {
   "cell_type": "code",
   "execution_count": null,
   "metadata": {},
   "outputs": [],
   "source": [
    "# Encerramento da conexão\n",
    "session.close()"
   ]
  }
 ],
 "metadata": {
  "kernelspec": {
   "display_name": "venv",
   "language": "python",
   "name": "python3"
  },
  "language_info": {
   "codemirror_mode": {
    "name": "ipython",
    "version": 3
   },
   "file_extension": ".py",
   "mimetype": "text/x-python",
   "name": "python",
   "nbconvert_exporter": "python",
   "pygments_lexer": "ipython3",
   "version": "3.12.7"
  }
 },
 "nbformat": 4,
 "nbformat_minor": 2
}
