{
 "cells": [
  {
   "cell_type": "code",
   "execution_count": null,
   "metadata": {},
   "outputs": [],
   "source": [
    "import requests\n",
    "from bs4 import BeautifulSoup"
   ]
  },
  {
   "cell_type": "code",
   "execution_count": null,
   "metadata": {},
   "outputs": [],
   "source": [
    "HEADERS = {\n",
    "    \"User-Agent\": \"Mozilla/5.0 (X11; Linux x86_64) AppleWebKit/537.36 (KHTML, like Gecko) Chrome/131.0.0.0 Safari/537.36\"\n",
    "}  # Cabeçalho padrão\n",
    "SEARCH_VALUE = \"smartphone\"  # Parâmetro de pesquisa"
   ]
  },
  {
   "cell_type": "code",
   "execution_count": null,
   "metadata": {},
   "outputs": [],
   "source": [
    "# Requisição para página usando o SEARCH_VALUE de pesquisa\n",
    "session = requests.Session()\n",
    "response = session.get(\"https://www.mercadolivre.com.br/\", timeout=5, headers=HEADERS)\n",
    "session.headers.update\n",
    "response = session.get(\n",
    "    f\"https://lista.mercadolivre.com.br/{SEARCH_VALUE}#D[A:{SEARCH_VALUE}]\", timeout=5\n",
    ")"
   ]
  },
  {
   "cell_type": "code",
   "execution_count": null,
   "metadata": {},
   "outputs": [],
   "source": [
    "endereco_paginas = []\n",
    "soup = BeautifulSoup(response.text, \"html.parser\")\n",
    "nav_pagina = soup.findAll(class_=\"andes-pagination__link\")\n",
    "\n",
    "# TODO Adicionar lógica para acrescentar todas as novas páginas encontradas após uma navegação e evitar duplicidade de endereços\n",
    "for pagina in nav_pagina:\n",
    "    endereco_pagina = pagina.get(\"href\")\n",
    "    if isinstance(endereco_pagina, str):\n",
    "        endereco_paginas.append(endereco_pagina)"
   ]
  },
  {
   "cell_type": "code",
   "execution_count": null,
   "metadata": {},
   "outputs": [],
   "source": [
    "nomes_produtos = []\n",
    "precos_produtos = []\n",
    "avaliacoes_produtos = []\n",
    "enderecos_requisitados = set()\n",
    "\n",
    "for pagina in endereco_paginas:\n",
    "    if pagina not in enderecos_requisitados:\n",
    "        # verifica se a URL a ser requisitada já fora requisitada anteriormente\n",
    "        response = session.get(pagina, timeout=5, headers=HEADERS)\n",
    "        if response.status_code:\n",
    "            print(f\"URL requisitada: {pagina}\")\n",
    "            enderecos_requisitados.add(pagina)\n",
    "            # Coleta das informações (nome do produto, preço, avalição (nota e quantidade) e navegação de página)\n",
    "            soup = BeautifulSoup(response.text, \"html.parser\")\n",
    "            nome_produto = soup.findAll(class_=\"poly-box poly-component__title\")\n",
    "            preco_produto = soup.findAll(class_=\"andes-money-amount__fraction\")\n",
    "            avaliacao_produto = soup.findAll(class_=\"andes-visually-hidden\")\n",
    "            nav_pagina = soup.findAll(class_=\"andes-pagination__link\")\n",
    "            # Adição das informações (nome do produto, preço, avaliação (nota e quantidade))\n",
    "            for nome in nome_produto:\n",
    "                nomes_produtos.append(nome.text)\n",
    "            for preco in preco_produto:\n",
    "                precos_produtos.append(preco.text)\n",
    "            for avaliacao in avaliacao_produto:\n",
    "                avaliacoes_produtos.append(avaliacao.text)\n",
    "        else:\n",
    "            print(f\"Bad Requests, status code: {response.status_code}\")\n",
    "    elif pagina in enderecos_requisitados:\n",
    "        print(f\"Endereço já requisitado anteriormente: {pagina}\")"
   ]
  },
  {
   "cell_type": "code",
   "execution_count": null,
   "metadata": {},
   "outputs": [],
   "source": [
    "print(nomes_produtos)\n",
    "print(\"\\n\")\n",
    "print(precos_produtos)\n",
    "print(\"\\n\")\n",
    "print(avaliacoes_produtos)\n",
    "print(\"\\n\")"
   ]
  },
  {
   "cell_type": "code",
   "execution_count": null,
   "metadata": {},
   "outputs": [],
   "source": [
    "# Encerramento da conexão\n",
    "session.close()"
   ]
  }
 ],
 "metadata": {
  "kernelspec": {
   "display_name": "venv",
   "language": "python",
   "name": "python3"
  },
  "language_info": {
   "codemirror_mode": {
    "name": "ipython",
    "version": 3
   },
   "file_extension": ".py",
   "mimetype": "text/x-python",
   "name": "python",
   "nbconvert_exporter": "python",
   "pygments_lexer": "ipython3",
   "version": "3.12.7"
  }
 },
 "nbformat": 4,
 "nbformat_minor": 2
}
